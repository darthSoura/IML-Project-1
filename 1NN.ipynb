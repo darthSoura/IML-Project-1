{
 "cells": [
  {
   "cell_type": "code",
   "execution_count": 1,
   "metadata": {},
   "outputs": [],
   "source": [
    "from sklearn.neighbors import KNeighborsClassifier\n",
    "from sklearn.metrics import accuracy_score\n",
    "import pandas as pd"
   ]
  },
  {
   "cell_type": "code",
   "execution_count": 2,
   "metadata": {},
   "outputs": [],
   "source": [
    "linear_train_df = pd.read_csv('combined_data\\linear_train_data.csv')\n",
    "linear_val_df = pd.read_csv('combined_data\\linear_val_data.csv')\n",
    "linear_test_df = pd.read_csv('combined_data\\linear_test_data.csv')\n",
    "non_linear_train_df = pd.read_csv('combined_data\\\\non_linear_train_data.csv')\n",
    "non_linear_val_df = pd.read_csv('combined_data\\\\non_linear_val_data.csv')\n",
    "non_linear_test_df = pd.read_csv('combined_data\\\\non_linear_test_data.csv')\n",
    "overlapping_train_df = pd.read_csv('combined_data\\overlapping_train_data.csv')\n",
    "overlapping_val_df = pd.read_csv('combined_data\\overlapping_val_data.csv')\n",
    "overlapping_test_df = pd.read_csv('combined_data\\overlapping_test_data.csv')"
   ]
  },
  {
   "cell_type": "code",
   "execution_count": 3,
   "metadata": {},
   "outputs": [],
   "source": [
    "def knn_1nn_classification(train_data, train_labels, test_data, test_labels):\n",
    "\n",
    "    classifier = KNeighborsClassifier(n_neighbors=1)    \n",
    "    classifier.fit(train_data, train_labels)\n",
    "    predicted_labels = classifier.predict(test_data)\n",
    "    accuracy = accuracy_score(test_labels, predicted_labels)\n",
    "    \n",
    "    return predicted_labels, accuracy"
   ]
  },
  {
   "cell_type": "code",
   "execution_count": 4,
   "metadata": {},
   "outputs": [
    {
     "name": "stdout",
     "output_type": "stream",
     "text": [
      "Linearly Separable Data Accuracy: 1.0\n"
     ]
    }
   ],
   "source": [
    "# For linearly separable data\n",
    "linear_train_data = linear_train_df[['X', 'Y']]\n",
    "linear_train_labels = linear_train_df['Label']\n",
    "\n",
    "linear_test_data = linear_test_df[['X', 'Y']]\n",
    "linear_test_labels = linear_test_df['Label']\n",
    "\n",
    "linear_predicted_labels, linear_accuracy = knn_1nn_classification(linear_train_data, linear_train_labels, \n",
    "                                                                  linear_test_data, linear_test_labels)\n",
    "print(\"Linearly Separable Data Accuracy:\", linear_accuracy)"
   ]
  },
  {
   "cell_type": "code",
   "execution_count": 5,
   "metadata": {},
   "outputs": [
    {
     "name": "stdout",
     "output_type": "stream",
     "text": [
      "Non Linearly Separable Data Accuracy: 1.0\n"
     ]
    }
   ],
   "source": [
    "# For non linearly separable data\n",
    "non_linear_train_data = non_linear_train_df[['X', 'Y']]\n",
    "non_linear_train_labels = non_linear_train_df['Label']\n",
    "\n",
    "non_linear_test_data = non_linear_test_df[['X', 'Y']]\n",
    "non_linear_test_labels = non_linear_test_df['Label']\n",
    "\n",
    "non_linear_predicted_labels, non_linear_accuracy = knn_1nn_classification(non_linear_train_data, non_linear_train_labels, \n",
    "                                                                  non_linear_test_data, non_linear_test_labels)\n",
    "\n",
    "print(\"Non Linearly Separable Data Accuracy:\", non_linear_accuracy)"
   ]
  },
  {
   "cell_type": "code",
   "execution_count": 6,
   "metadata": {},
   "outputs": [
    {
     "name": "stdout",
     "output_type": "stream",
     "text": [
      "Overlapping Data Accuracy: 0.85\n"
     ]
    }
   ],
   "source": [
    "# For overlapping data\n",
    "overlapping_train_data = overlapping_train_df[['X', 'Y']]\n",
    "overlapping_train_labels = overlapping_train_df['Label']\n",
    "\n",
    "overlapping_test_data = overlapping_test_df[['X', 'Y']]\n",
    "overlapping_test_labels = overlapping_test_df['Label']\n",
    "\n",
    "overlapping_predicted_labels, overlapping_accuracy = knn_1nn_classification(overlapping_train_data, overlapping_train_labels, \n",
    "                                                                  overlapping_test_data, overlapping_test_labels)\n",
    "print(\"Overlapping Data Accuracy:\", overlapping_accuracy)"
   ]
  }
 ],
 "metadata": {
  "kernelspec": {
   "display_name": "Python 3",
   "language": "python",
   "name": "python3"
  },
  "language_info": {
   "codemirror_mode": {
    "name": "ipython",
    "version": 3
   },
   "file_extension": ".py",
   "mimetype": "text/x-python",
   "name": "python",
   "nbconvert_exporter": "python",
   "pygments_lexer": "ipython3",
   "version": "3.10.2"
  },
  "orig_nbformat": 4
 },
 "nbformat": 4,
 "nbformat_minor": 2
}
