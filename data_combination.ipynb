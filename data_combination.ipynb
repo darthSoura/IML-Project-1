{
 "cells": [
  {
   "cell_type": "code",
   "execution_count": 1,
   "metadata": {},
   "outputs": [],
   "source": [
    "import pandas as pd\n",
    "import matplotlib.pyplot as plt\n",
    "import seaborn as sns\n",
    "import os"
   ]
  },
  {
   "cell_type": "code",
   "execution_count": 2,
   "metadata": {},
   "outputs": [],
   "source": [
    "def read_and_combine_data(data_pattern, data_type):\n",
    "    \"\"\"\n",
    "    Reads and combines data from multiple files into a single DataFrame with a label column.\n",
    "\n",
    "    Args:\n",
    "        data_pattern (str): Type of data ('linearlySeparable', 'nonLinearlySeparable', or 'overlapping').\n",
    "        data_type (str): Type of data ('train', 'test', or 'val').\n",
    "\n",
    "    Returns:\n",
    "        pd.DataFrame: Combined DataFrame with a 'Label' column.\n",
    "    \"\"\"\n",
    "    dfs = []\n",
    "\n",
    "    data_dir = os.path.join('data', data_pattern)\n",
    "    i = 1\n",
    "    for file_name in os.listdir(data_dir):\n",
    "        file_dir = os.path.join(data_dir, file_name)\n",
    "        \n",
    "        if data_type in file_name:    \n",
    "            label = f'Class {i}'\n",
    "            i+=1\n",
    "            if file_name.endswith('.txt'):\n",
    "                df = pd.read_csv(file_dir, delim_whitespace=True, names=['X', 'Y'])\n",
    "                df['Label'] = label\n",
    "                dfs.append(df)\n",
    "\n",
    "    combined_df = pd.concat(dfs, ignore_index=True)\n",
    "    return combined_df"
   ]
  },
  {
   "cell_type": "code",
   "execution_count": 3,
   "metadata": {},
   "outputs": [],
   "source": [
    "def save_combined_data_to_csv(data_pattern, data_type, output_filename):\n",
    "    \"\"\"\n",
    "    Reads and combines data, then saves the combined DataFrame to a CSV file.\n",
    "\n",
    "    Args:\n",
    "        data_pattern (str): Type of data ('linearlySeparable', 'nonLinearlySeparable', or 'overlapping').\n",
    "        data_type (str): Type of data ('train', 'test', or 'val').\n",
    "        output_filename (str): Name of the output CSV file.\n",
    "    \"\"\"\n",
    "    combined_df = read_and_combine_data(data_pattern, data_type)\n",
    "    output_filepath = os.path.join('combined_data', output_filename)\n",
    "    combined_df.to_csv(output_filepath, index=False)\n",
    "    print(f'Data saved to {output_filepath}')"
   ]
  },
  {
   "cell_type": "code",
   "execution_count": 4,
   "metadata": {},
   "outputs": [
    {
     "name": "stdout",
     "output_type": "stream",
     "text": [
      "Data saved to combined_data\\linear_train_data.csv\n",
      "Data saved to combined_data\\linear_val_data.csv\n",
      "Data saved to combined_data\\linear_test_data.csv\n",
      "Data saved to combined_data\\non_linear_train_data.csv\n",
      "Data saved to combined_data\\non_linear_val_data.csv\n",
      "Data saved to combined_data\\non_linear_test_data.csv\n",
      "Data saved to combined_data\\overlapping_train_data.csv\n",
      "Data saved to combined_data\\overlapping_val_data.csv\n",
      "Data saved to combined_data\\overlapping_test_data.csv\n"
     ]
    }
   ],
   "source": [
    "data_patterns = ['linearlySeparable', 'linearlySeparable', 'linearlySeparable',\n",
    "                 'nonLinearlySeparable', 'nonLinearlySeparable', 'nonLinearlySeparable',\n",
    "                 'overlapping', 'overlapping', 'overlapping']\n",
    "data_types = ['train', 'val', 'test',\n",
    "              'train', 'val', 'test',\n",
    "              'train', 'val', 'test']\n",
    "output_filenames = ['linear_train_data.csv', 'linear_val_data.csv', 'linear_test_data.csv', \n",
    "                    'non_linear_train_data.csv', 'non_linear_val_data.csv', 'non_linear_test_data.csv', \n",
    "                    'overlapping_train_data.csv', 'overlapping_val_data.csv', 'overlapping_test_data.csv']\n",
    "\n",
    "\n",
    "for i,j,k in zip(data_patterns, data_types, output_filenames):\n",
    "    save_combined_data_to_csv(i, j, k)"
   ]
  }
 ],
 "metadata": {
  "kernelspec": {
   "display_name": "Python 3",
   "language": "python",
   "name": "python3"
  },
  "language_info": {
   "codemirror_mode": {
    "name": "ipython",
    "version": 3
   },
   "file_extension": ".py",
   "mimetype": "text/x-python",
   "name": "python",
   "nbconvert_exporter": "python",
   "pygments_lexer": "ipython3",
   "version": "3.10.2"
  },
  "orig_nbformat": 4
 },
 "nbformat": 4,
 "nbformat_minor": 2
}
